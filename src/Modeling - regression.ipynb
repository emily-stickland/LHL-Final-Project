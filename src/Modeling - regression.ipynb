{
 "cells": [
  {
   "cell_type": "code",
   "execution_count": 20,
   "metadata": {},
   "outputs": [
    {
     "data": {
      "text/plain": [
       "Index(['Unnamed: 0', 'Bail Status', 'Days in Court', 'Offence Location',\n",
       "       'Date', 'Proceeding', 'Court', 'Offence Number', 'Has Lawyer',\n",
       "       'Not in Custody', 'Custody Unknown', 'Is In Custody', 'Abbotsford',\n",
       "       'New Westminster', 'North Vancouver', 'Port Coquitlam', 'Richmond',\n",
       "       'Surrey', 'Vancouver', 'Victoria', 'Statute', 'Offence', 'Election',\n",
       "       'Discharge Available', 'SS Available', 'CSO Available',\n",
       "       'Maximum (Summary)(Years)', 'Maximum (Indictable)(Years)'],\n",
       "      dtype='object')"
      ]
     },
     "execution_count": 20,
     "metadata": {},
     "output_type": "execute_result"
    }
   ],
   "source": [
    "import pandas as pd \n",
    "import numpy as np\n",
    "\n",
    "from sklearn.model_selection import train_test_split\n",
    "from sklearn.preprocessing import StandardScaler\n",
    "\n",
    "# feature selection\n",
    "from sklearn.decomposition import PCA\n",
    "from sklearn.feature_selection import SelectKBest\n",
    "from sklearn.feature_selection import f_classif\n",
    "\n",
    "# ML models\n",
    "from sklearn.linear_model import LinearRegression\n",
    "import xgboost as xgb\n",
    "from xgboost import XGBRegressor\n",
    "\n",
    "# pipelines\n",
    "from sklearn.ensemble import VotingClassifier\n",
    "from sklearn.pipeline import Pipeline\n",
    "from sklearn.model_selection import GridSearchCV\n",
    "\n",
    "# performance metrics\n",
    "from sklearn.metrics import mean_squared_error, r2_score, mean_absolute_error, explained_variance_score\n",
    "import statsmodels.api as sm\n",
    "\n",
    "# plotting\n",
    "import seaborn as sns\n",
    "import matplotlib.pyplot as plt\n",
    "\n",
    "# import cleaned and transformed dataset\n",
    "df = pd.read_csv(\"../data/clean_merged_df.csv\")\n",
    "\n",
    "df.columns"
   ]
  },
  {
   "cell_type": "code",
   "execution_count": 12,
   "metadata": {},
   "outputs": [],
   "source": [
    "df.drop(columns = ['Unnamed: 0', 'Bail Status', 'Offence Location',\n",
    "                   'Date', 'Proceeding', 'Court', 'Offence Number',\n",
    "                   'Statute', 'Offence'], inplace=True)"
   ]
  },
  {
   "cell_type": "code",
   "execution_count": 13,
   "metadata": {},
   "outputs": [
    {
     "data": {
      "text/plain": [
       "Index(['Days in Court', 'Has Lawyer', 'Not in Custody', 'Custody Unknown',\n",
       "       'Is In Custody', 'Abbotsford', 'New Westminster', 'North Vancouver',\n",
       "       'Port Coquitlam', 'Richmond', 'Surrey', 'Vancouver', 'Victoria',\n",
       "       'Election', 'Discharge Available', 'SS Available', 'CSO Available',\n",
       "       'Maximum (Summary)(Years)', 'Maximum (Indictable)(Years)'],\n",
       "      dtype='object')"
      ]
     },
     "execution_count": 13,
     "metadata": {},
     "output_type": "execute_result"
    }
   ],
   "source": [
    "df.columns"
   ]
  },
  {
   "attachments": {},
   "cell_type": "markdown",
   "metadata": {},
   "source": [
    "Scale data"
   ]
  },
  {
   "cell_type": "code",
   "execution_count": 14,
   "metadata": {},
   "outputs": [],
   "source": [
    "scaler = StandardScaler()\n",
    "df_scaled = scaler.fit_transform(df)\n",
    "\n",
    "# Convert the NumPy array back to a pandas DataFrame\n",
    "df_scaled = pd.DataFrame(df_scaled, columns = df.columns)"
   ]
  },
  {
   "attachments": {},
   "cell_type": "markdown",
   "metadata": {},
   "source": [
    "Train test split"
   ]
  },
  {
   "cell_type": "code",
   "execution_count": 15,
   "metadata": {},
   "outputs": [],
   "source": [
    "# Split the data into features (X) and target (y)\n",
    "X = df_scaled.drop('Days in Court', axis=1)\n",
    "y = df_scaled['Days in Court']\n",
    "\n",
    "# Split the data into training and testing sets\n",
    "X_train, X_test, y_train, y_test = train_test_split(X, y, test_size=0.2, random_state=42)"
   ]
  },
  {
   "cell_type": "code",
   "execution_count": 16,
   "metadata": {},
   "outputs": [
    {
     "data": {
      "text/plain": [
       "Has Lawyer                     float64\n",
       "Not in Custody                 float64\n",
       "Custody Unknown                float64\n",
       "Is In Custody                  float64\n",
       "Abbotsford                     float64\n",
       "New Westminster                float64\n",
       "North Vancouver                float64\n",
       "Port Coquitlam                 float64\n",
       "Richmond                       float64\n",
       "Surrey                         float64\n",
       "Vancouver                      float64\n",
       "Victoria                       float64\n",
       "Election                       float64\n",
       "Discharge Available            float64\n",
       "SS Available                   float64\n",
       "CSO Available                  float64\n",
       "Maximum (Summary)(Years)       float64\n",
       "Maximum (Indictable)(Years)    float64\n",
       "dtype: object"
      ]
     },
     "execution_count": 16,
     "metadata": {},
     "output_type": "execute_result"
    }
   ],
   "source": [
    "X_train.dtypes"
   ]
  },
  {
   "attachments": {},
   "cell_type": "markdown",
   "metadata": {},
   "source": [
    "Run simple model - Linear Regreaaion using SKLearn"
   ]
  },
  {
   "cell_type": "code",
   "execution_count": 17,
   "metadata": {},
   "outputs": [
    {
     "name": "stdout",
     "output_type": "stream",
     "text": [
      "Mean squared error:  0.7493550049630476\n",
      "R-squared:  0.10455041572848622\n",
      "Adjusted R-squared:  0.0675823136255338\n"
     ]
    }
   ],
   "source": [
    "# Create and fit the linear regression model\n",
    "model = LinearRegression()\n",
    "model.fit(X_train, y_train)\n",
    "\n",
    "# Make predictions on the testing set\n",
    "y_pred = model.predict(X_test)\n",
    "\n",
    "# Compute the mean squared error\n",
    "mse = mean_squared_error(y_test, y_pred)\n",
    "\n",
    "# Compute the R-squared score\n",
    "r2 = r2_score(y_test, y_pred)\n",
    "\n",
    "# Compute the adjusted R-squared\n",
    "adj_r2 = 1 - (1 -r2) * (len(y_test) - 1) / (len(y_test) - X_test.shape[1] - 1)\n",
    "\n",
    "# print results\n",
    "print(\"Mean squared error: \", mse)\n",
    "print(\"R-squared: \", r2)\n",
    "print(\"Adjusted R-squared: \", adj_r2)\n"
   ]
  },
  {
   "attachments": {},
   "cell_type": "markdown",
   "metadata": {},
   "source": [
    "Linear Regression using Statsmodels (which gives P values)"
   ]
  },
  {
   "cell_type": "code",
   "execution_count": 18,
   "metadata": {},
   "outputs": [
    {
     "name": "stdout",
     "output_type": "stream",
     "text": [
      "const                          7.665502e-01\n",
      "Has Lawyer                     2.126064e-33\n",
      "Not in Custody                 4.215103e-01\n",
      "Custody Unknown                4.557076e-01\n",
      "Is In Custody                  8.163952e-01\n",
      "Abbotsford                     7.630209e-02\n",
      "New Westminster                9.781373e-03\n",
      "North Vancouver                1.387660e-02\n",
      "Port Coquitlam                 8.314737e-01\n",
      "Richmond                       3.313304e-01\n",
      "Surrey                         3.733154e-03\n",
      "Vancouver                      1.728771e-01\n",
      "Victoria                       5.518089e-01\n",
      "Election                       6.252158e-07\n",
      "Discharge Available            4.997173e-01\n",
      "SS Available                   4.997173e-01\n",
      "CSO Available                  4.997173e-01\n",
      "Maximum (Summary)(Years)       4.490262e-03\n",
      "Maximum (Indictable)(Years)    1.373527e-09\n",
      "Name: P>|t|, dtype: float64\n",
      "R-squared: 0.11506298767714773\n",
      "Adjusted R-squared: 0.10819540554160445\n"
     ]
    }
   ],
   "source": [
    "# Compute the p-values for each feature\n",
    "# add a constant column to X_train (statsmodels' linear regression model doesn't automatically add this)\n",
    "X_train_with_constant = sm.add_constant(X_train) \n",
    "\n",
    "# Train the linear regression model\n",
    "LR_model = sm.OLS(y_train, X_train_with_constant)\n",
    "LR_results = LR_model.fit()\n",
    "\n",
    "# evaluate the model\n",
    "p_values = LR_results.summary2().tables[1]['P>|t|']\n",
    "r2 = LR_results.rsquared\n",
    "adj_r2 = LR_results.rsquared_adj\n",
    "\n",
    "# Print results\n",
    "print(p_values)\n",
    "print(\"R-squared:\", r2)\n",
    "print(\"Adjusted R-squared:\", adj_r2)\n"
   ]
  },
  {
   "cell_type": "code",
   "execution_count": 22,
   "metadata": {},
   "outputs": [
    {
     "name": "stdout",
     "output_type": "stream",
     "text": [
      "Mean Squared Error: 0.7454879247916991\n",
      "Mean Absolute Error: 0.6243189643834453\n",
      "Root Mean Squared Error: 0.8634164260608546\n",
      "R-squared: 0.10917142354033016\n",
      "Adjusted R-squared: 0.07239409698924293\n",
      "Explained Variance Score: 0.1101066374283507\n"
     ]
    }
   ],
   "source": [
    "# create XGBoost model and fit to data\n",
    "model = XGBRegressor(objective='reg:squarederror', colsample_bytree=0.3, learning_rate=0.1,\n",
    "                      max_depth=5, alpha=10, n_estimators=50, seed=123)\n",
    "\n",
    "model.fit(X_train, y_train)\n",
    "\n",
    "# predict on test set\n",
    "y_pred = model.predict(X_test)\n",
    "\n",
    "# compute performance metrics\n",
    "mse = mean_squared_error(y_test, y_pred)\n",
    "mae = mean_absolute_error(y_test, y_pred)\n",
    "rmse = mean_squared_error(y_test, y_pred, squared=False)\n",
    "r2 = r2_score(y_test, y_pred)\n",
    "adj_r2 = 1 - (1 - r2) * (len(y_test) - 1) / (len(y_test) - X_test.shape[1] - 1)\n",
    "explained_var = explained_variance_score(y_test, y_pred)\n",
    "\n",
    "# print results\n",
    "print('Mean Squared Error:', mse)\n",
    "print('Mean Absolute Error:', mae)\n",
    "print('Root Mean Squared Error:', rmse)\n",
    "print('R-squared:', r2)\n",
    "print('Adjusted R-squared:', adj_r2)\n",
    "print('Explained Variance Score:', explained_var)\n"
   ]
  },
  {
   "cell_type": "code",
   "execution_count": null,
   "metadata": {},
   "outputs": [],
   "source": []
  }
 ],
 "metadata": {
  "kernelspec": {
   "display_name": "base",
   "language": "python",
   "name": "python3"
  },
  "language_info": {
   "codemirror_mode": {
    "name": "ipython",
    "version": 3
   },
   "file_extension": ".py",
   "mimetype": "text/x-python",
   "name": "python",
   "nbconvert_exporter": "python",
   "pygments_lexer": "ipython3",
   "version": "3.9.13"
  },
  "orig_nbformat": 4
 },
 "nbformat": 4,
 "nbformat_minor": 2
}
