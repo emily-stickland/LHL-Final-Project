{
 "cells": [
  {
   "cell_type": "code",
   "execution_count": 10,
   "metadata": {},
   "outputs": [],
   "source": [
    "import pandas as pd \n",
    "import numpy as np\n",
    "import cleaning_functions as cf\n",
    "import legal_functions as lf\n",
    "import bail_status_dict as bs"
   ]
  },
  {
   "cell_type": "code",
   "execution_count": 11,
   "metadata": {},
   "outputs": [
    {
     "name": "stdout",
     "output_type": "stream",
     "text": [
      "(843, 11)\n",
      "(558, 11)\n",
      "(980, 11)\n"
     ]
    }
   ],
   "source": [
    "df1 = pd.read_csv(\"../data/data_1.csv\")\n",
    "print(df1.shape)\n",
    "df2 = pd.read_csv(\"../data/data_2.csv\")\n",
    "print(df2.shape)\n",
    "df3 = pd.read_csv(\"../data/data_3.csv\")\n",
    "print(df3.shape)"
   ]
  },
  {
   "cell_type": "code",
   "execution_count": 12,
   "metadata": {},
   "outputs": [],
   "source": [
    "df1 = cf.split_info(df1)\n",
    "df2 = cf.split_info(df2)\n",
    "df3 = cf.split_info(df3)"
   ]
  },
  {
   "cell_type": "code",
   "execution_count": 13,
   "metadata": {},
   "outputs": [
    {
     "name": "stdout",
     "output_type": "stream",
     "text": [
      "13 rows have been dropped\n",
      "26 rows have been dropped\n",
      "4 rows have been dropped\n"
     ]
    }
   ],
   "source": [
    "df1 = cf.drop_null_rows(df1)\n",
    "df2 = cf.drop_null_rows(df2)\n",
    "df3 = cf.drop_null_rows(df3)"
   ]
  },
  {
   "cell_type": "code",
   "execution_count": 14,
   "metadata": {},
   "outputs": [
    {
     "data": {
      "text/plain": [
       "(2338, 15)"
      ]
     },
     "execution_count": 14,
     "metadata": {},
     "output_type": "execute_result"
    }
   ],
   "source": [
    "# concatenate vertically\n",
    "dfA = pd.concat([df1, df2, df3], axis=0)\n",
    "\n",
    "# reset the index\n",
    "dfA = dfA.reset_index(drop=True)\n",
    "\n",
    "dfA.shape"
   ]
  },
  {
   "attachments": {},
   "cell_type": "markdown",
   "metadata": {},
   "source": [
    "### Import Offences Lookup Table, encode it, and see how many offences are covered. Drop those that aren't"
   ]
  },
  {
   "cell_type": "code",
   "execution_count": 15,
   "metadata": {},
   "outputs": [
    {
     "data": {
      "text/html": [
       "<div>\n",
       "<style scoped>\n",
       "    .dataframe tbody tr th:only-of-type {\n",
       "        vertical-align: middle;\n",
       "    }\n",
       "\n",
       "    .dataframe tbody tr th {\n",
       "        vertical-align: top;\n",
       "    }\n",
       "\n",
       "    .dataframe thead th {\n",
       "        text-align: right;\n",
       "    }\n",
       "</style>\n",
       "<table border=\"1\" class=\"dataframe\">\n",
       "  <thead>\n",
       "    <tr style=\"text-align: right;\">\n",
       "      <th></th>\n",
       "      <th>Statute</th>\n",
       "      <th>Offence Number</th>\n",
       "      <th>Offence</th>\n",
       "      <th>Election</th>\n",
       "      <th>Discharge Available</th>\n",
       "      <th>SS Available</th>\n",
       "      <th>CSO Available</th>\n",
       "      <th>Maximum (Summary)(Years)</th>\n",
       "      <th>Maximum (Indictable)(Years)</th>\n",
       "    </tr>\n",
       "  </thead>\n",
       "  <tbody>\n",
       "    <tr>\n",
       "      <th>0</th>\n",
       "      <td>CCC</td>\n",
       "      <td>56.1 1</td>\n",
       "      <td>Possess ID docs</td>\n",
       "      <td>Hybrid</td>\n",
       "      <td>Y</td>\n",
       "      <td>Y</td>\n",
       "      <td>Y</td>\n",
       "      <td>2</td>\n",
       "      <td>5</td>\n",
       "    </tr>\n",
       "    <tr>\n",
       "      <th>1</th>\n",
       "      <td>CCC</td>\n",
       "      <td>72 1</td>\n",
       "      <td>Forcible entry</td>\n",
       "      <td>Hybrid</td>\n",
       "      <td>Y</td>\n",
       "      <td>Y</td>\n",
       "      <td>Y</td>\n",
       "      <td>2</td>\n",
       "      <td>2</td>\n",
       "    </tr>\n",
       "    <tr>\n",
       "      <th>2</th>\n",
       "      <td>CCC</td>\n",
       "      <td>82 1</td>\n",
       "      <td>Make/possess explosives</td>\n",
       "      <td>Hybrid</td>\n",
       "      <td>Y</td>\n",
       "      <td>Y</td>\n",
       "      <td>Y</td>\n",
       "      <td>2</td>\n",
       "      <td>5</td>\n",
       "    </tr>\n",
       "    <tr>\n",
       "      <th>3</th>\n",
       "      <td>CCC</td>\n",
       "      <td>85 1</td>\n",
       "      <td>Use firearm in commission of offence</td>\n",
       "      <td>Indictable</td>\n",
       "      <td>N</td>\n",
       "      <td>N</td>\n",
       "      <td>N</td>\n",
       "      <td>5</td>\n",
       "      <td>14</td>\n",
       "    </tr>\n",
       "    <tr>\n",
       "      <th>4</th>\n",
       "      <td>CCC</td>\n",
       "      <td>85 2</td>\n",
       "      <td>Use imitation firearm in commission of offence</td>\n",
       "      <td>Indictable</td>\n",
       "      <td>N</td>\n",
       "      <td>N</td>\n",
       "      <td>N</td>\n",
       "      <td>5</td>\n",
       "      <td>14</td>\n",
       "    </tr>\n",
       "  </tbody>\n",
       "</table>\n",
       "</div>"
      ],
      "text/plain": [
       "  Statute Offence Number                                         Offence  \\\n",
       "0     CCC         56.1 1                                 Possess ID docs   \n",
       "1     CCC           72 1                                  Forcible entry   \n",
       "2     CCC           82 1                         Make/possess explosives   \n",
       "3     CCC           85 1            Use firearm in commission of offence   \n",
       "4     CCC           85 2  Use imitation firearm in commission of offence   \n",
       "\n",
       "     Election Discharge Available SS Available CSO Available  \\\n",
       "0      Hybrid                   Y            Y             Y   \n",
       "1      Hybrid                   Y            Y             Y   \n",
       "2      Hybrid                   Y            Y             Y   \n",
       "3  Indictable                   N            N             N   \n",
       "4  Indictable                   N            N             N   \n",
       "\n",
       "   Maximum (Summary)(Years)  Maximum (Indictable)(Years)  \n",
       "0                         2                            5  \n",
       "1                         2                            2  \n",
       "2                         2                            5  \n",
       "3                         5                           14  \n",
       "4                         5                           14  "
      ]
     },
     "execution_count": 15,
     "metadata": {},
     "output_type": "execute_result"
    }
   ],
   "source": [
    "lookup_df = pd.read_csv(\"../data/OffenceLookup.csv\")\n",
    "lookup_df.head()"
   ]
  },
  {
   "cell_type": "code",
   "execution_count": 16,
   "metadata": {},
   "outputs": [],
   "source": [
    "lookup_df = lf.encode_offences(lookup_df)"
   ]
  },
  {
   "cell_type": "code",
   "execution_count": 17,
   "metadata": {},
   "outputs": [
    {
     "name": "stdout",
     "output_type": "stream",
     "text": [
      "14 rows have been dropped\n"
     ]
    }
   ],
   "source": [
    "# drop rows with offence codes that don't meet the criteria\n",
    "dfA = cf.clean_offence_codes(dfA)"
   ]
  },
  {
   "cell_type": "code",
   "execution_count": 18,
   "metadata": {},
   "outputs": [
    {
     "name": "stdout",
     "output_type": "stream",
     "text": [
      "Number of values in both dataframes (to keep): 2274\n",
      "Number of values not in lookup df (to drop): 50\n",
      "Offences that have no lookup and are being dropped: ['502 2' '771 1' '117.05 1' '11 2' '159 1' '512.3' 'CCC 811' '503 3 b'\n",
      " '117.05 4 b' '78' '111 1' '000' 'CCC 733.1 1' '486.2 2 T' '89.6 1'\n",
      " '37 1 b' '26 1 c']\n"
     ]
    }
   ],
   "source": [
    "# compare df with lookup_df and drop rows that don't have an offence in the lookup table\n",
    "dfA = lf.compare_dataframes(dfA, lookup_df)"
   ]
  },
  {
   "attachments": {},
   "cell_type": "markdown",
   "metadata": {},
   "source": [
    "Merge df1 with offences df"
   ]
  },
  {
   "cell_type": "code",
   "execution_count": 20,
   "metadata": {},
   "outputs": [],
   "source": [
    "merged_df = dfA.merge(lookup_df, on = ['Offence Number'], how='left')"
   ]
  },
  {
   "cell_type": "code",
   "execution_count": 21,
   "metadata": {},
   "outputs": [
    {
     "data": {
      "text/html": [
       "<div>\n",
       "<style scoped>\n",
       "    .dataframe tbody tr th:only-of-type {\n",
       "        vertical-align: middle;\n",
       "    }\n",
       "\n",
       "    .dataframe tbody tr th {\n",
       "        vertical-align: top;\n",
       "    }\n",
       "\n",
       "    .dataframe thead th {\n",
       "        text-align: right;\n",
       "    }\n",
       "</style>\n",
       "<table border=\"1\" class=\"dataframe\">\n",
       "  <thead>\n",
       "    <tr style=\"text-align: right;\">\n",
       "      <th></th>\n",
       "      <th>File</th>\n",
       "      <th>Name</th>\n",
       "      <th>Bail Status</th>\n",
       "      <th>In Custody</th>\n",
       "      <th>Lawyer</th>\n",
       "      <th>Days in Court</th>\n",
       "      <th>Info</th>\n",
       "      <th>Videoconf</th>\n",
       "      <th>Offence Location</th>\n",
       "      <th>Court Location</th>\n",
       "      <th>...</th>\n",
       "      <th>Statute_x</th>\n",
       "      <th>Offence Number</th>\n",
       "      <th>Statute_y</th>\n",
       "      <th>Offence</th>\n",
       "      <th>Election</th>\n",
       "      <th>Discharge Available</th>\n",
       "      <th>SS Available</th>\n",
       "      <th>CSO Available</th>\n",
       "      <th>Maximum (Summary)(Years)</th>\n",
       "      <th>Maximum (Indictable)(Years)</th>\n",
       "    </tr>\n",
       "  </thead>\n",
       "  <tbody>\n",
       "    <tr>\n",
       "      <th>0</th>\n",
       "      <td>93322-9-B</td>\n",
       "      <td>Hampton, Braiden</td>\n",
       "      <td>AOI</td>\n",
       "      <td>Y</td>\n",
       "      <td>Reveley,</td>\n",
       "      <td>100</td>\n",
       "      <td>JIR 001 CCC 811</td>\n",
       "      <td>NaN</td>\n",
       "      <td>Mission BC</td>\n",
       "      <td>Abbotsford</td>\n",
       "      <td>...</td>\n",
       "      <td>CCC</td>\n",
       "      <td>811</td>\n",
       "      <td>CCC</td>\n",
       "      <td>Breach of Recognizance</td>\n",
       "      <td>1</td>\n",
       "      <td>0</td>\n",
       "      <td>0</td>\n",
       "      <td>0</td>\n",
       "      <td>2</td>\n",
       "      <td>2</td>\n",
       "    </tr>\n",
       "    <tr>\n",
       "      <th>1</th>\n",
       "      <td>95217-2-B</td>\n",
       "      <td>Hampton, Braiden Gray</td>\n",
       "      <td>AOI</td>\n",
       "      <td>N</td>\n",
       "      <td>Reveley,</td>\n",
       "      <td>145</td>\n",
       "      <td>ARB 001 CCC 733.1 1</td>\n",
       "      <td>NaN</td>\n",
       "      <td>Abbotsford BC</td>\n",
       "      <td>Abbotsford</td>\n",
       "      <td>...</td>\n",
       "      <td>CCC</td>\n",
       "      <td>733.1 1</td>\n",
       "      <td>CCC</td>\n",
       "      <td>Breach of Probation</td>\n",
       "      <td>1</td>\n",
       "      <td>0</td>\n",
       "      <td>0</td>\n",
       "      <td>0</td>\n",
       "      <td>2</td>\n",
       "      <td>2</td>\n",
       "    </tr>\n",
       "    <tr>\n",
       "      <th>2</th>\n",
       "      <td>95824-1</td>\n",
       "      <td>Hampton, Braiden Gray</td>\n",
       "      <td>AOI</td>\n",
       "      <td>N</td>\n",
       "      <td>Reveley,</td>\n",
       "      <td>130</td>\n",
       "      <td>ARB 001 CCC 266</td>\n",
       "      <td>NaN</td>\n",
       "      <td>Abbotsford BC</td>\n",
       "      <td>Abbotsford</td>\n",
       "      <td>...</td>\n",
       "      <td>CCC</td>\n",
       "      <td>266</td>\n",
       "      <td>CCC</td>\n",
       "      <td>Assault</td>\n",
       "      <td>1</td>\n",
       "      <td>0</td>\n",
       "      <td>0</td>\n",
       "      <td>0</td>\n",
       "      <td>2</td>\n",
       "      <td>5</td>\n",
       "    </tr>\n",
       "    <tr>\n",
       "      <th>3</th>\n",
       "      <td>95935-2-C</td>\n",
       "      <td>Hampton, Braiden Gray</td>\n",
       "      <td>PPA</td>\n",
       "      <td>Y</td>\n",
       "      <td>Reveley,</td>\n",
       "      <td>104</td>\n",
       "      <td>JIR 001 CCC 266</td>\n",
       "      <td>NaN</td>\n",
       "      <td>Mission BC</td>\n",
       "      <td>Abbotsford</td>\n",
       "      <td>...</td>\n",
       "      <td>CCC</td>\n",
       "      <td>266</td>\n",
       "      <td>CCC</td>\n",
       "      <td>Assault</td>\n",
       "      <td>1</td>\n",
       "      <td>0</td>\n",
       "      <td>0</td>\n",
       "      <td>0</td>\n",
       "      <td>2</td>\n",
       "      <td>5</td>\n",
       "    </tr>\n",
       "    <tr>\n",
       "      <th>4</th>\n",
       "      <td>94351-1</td>\n",
       "      <td>Harris, Ryan Patrick</td>\n",
       "      <td>ROD</td>\n",
       "      <td>Y</td>\n",
       "      <td>Reveley,</td>\n",
       "      <td>391</td>\n",
       "      <td>JIR 001 CDS 5 2</td>\n",
       "      <td>NaN</td>\n",
       "      <td>Mission BC</td>\n",
       "      <td>Abbotsford</td>\n",
       "      <td>...</td>\n",
       "      <td>CDS</td>\n",
       "      <td>5 2</td>\n",
       "      <td>CDS</td>\n",
       "      <td>PPT</td>\n",
       "      <td>1</td>\n",
       "      <td>0</td>\n",
       "      <td>0</td>\n",
       "      <td>0</td>\n",
       "      <td>2</td>\n",
       "      <td>25</td>\n",
       "    </tr>\n",
       "  </tbody>\n",
       "</table>\n",
       "<p>5 rows × 23 columns</p>\n",
       "</div>"
      ],
      "text/plain": [
       "        File                   Name Bail Status In Custody    Lawyer  \\\n",
       "0  93322-9-B       Hampton, Braiden         AOI          Y  Reveley,   \n",
       "1  95217-2-B  Hampton, Braiden Gray         AOI          N  Reveley,   \n",
       "2    95824-1  Hampton, Braiden Gray         AOI          N  Reveley,   \n",
       "3  95935-2-C  Hampton, Braiden Gray         PPA          Y  Reveley,   \n",
       "4    94351-1   Harris, Ryan Patrick         ROD          Y  Reveley,   \n",
       "\n",
       "   Days in Court                 Info Videoconf Offence Location  \\\n",
       "0            100      JIR 001 CCC 811       NaN       Mission BC   \n",
       "1            145  ARB 001 CCC 733.1 1       NaN    Abbotsford BC   \n",
       "2            130      ARB 001 CCC 266       NaN    Abbotsford BC   \n",
       "3            104      JIR 001 CCC 266       NaN       Mission BC   \n",
       "4            391      JIR 001 CDS 5 2       NaN       Mission BC   \n",
       "\n",
       "  Court Location  ... Statute_x Offence Number Statute_y  \\\n",
       "0     Abbotsford  ...       CCC            811       CCC   \n",
       "1     Abbotsford  ...       CCC        733.1 1       CCC   \n",
       "2     Abbotsford  ...       CCC            266       CCC   \n",
       "3     Abbotsford  ...       CCC            266       CCC   \n",
       "4     Abbotsford  ...       CDS            5 2       CDS   \n",
       "\n",
       "                  Offence Election Discharge Available SS Available  \\\n",
       "0  Breach of Recognizance        1                   0            0   \n",
       "1     Breach of Probation        1                   0            0   \n",
       "2                 Assault        1                   0            0   \n",
       "3                 Assault        1                   0            0   \n",
       "4                     PPT        1                   0            0   \n",
       "\n",
       "   CSO Available  Maximum (Summary)(Years)  Maximum (Indictable)(Years)  \n",
       "0              0                         2                            2  \n",
       "1              0                         2                            2  \n",
       "2              0                         2                            5  \n",
       "3              0                         2                            5  \n",
       "4              0                         2                           25  \n",
       "\n",
       "[5 rows x 23 columns]"
      ]
     },
     "execution_count": 21,
     "metadata": {},
     "output_type": "execute_result"
    }
   ],
   "source": [
    "merged_df.head()"
   ]
  },
  {
   "cell_type": "code",
   "execution_count": 22,
   "metadata": {},
   "outputs": [],
   "source": [
    "# export pre-encoded df for EDA\n",
    "merged_df.to_csv(\"pre-encoded_df.csv\")"
   ]
  },
  {
   "cell_type": "code",
   "execution_count": 23,
   "metadata": {},
   "outputs": [
    {
     "name": "stderr",
     "output_type": "stream",
     "text": [
      "c:\\Users\\emily\\OneDrive\\Desktop\\Data Science Bootcamp\\Final Project\\src\\cleaning_functions.py:38: FutureWarning: The default value of regex will change from True to False in a future version.\n",
      "  df['Lawyer'] = df['Lawyer'].str.replace(r'[^\\w\\s]','').str.replace(r'\\b\\w{1,2}\\b','')\n"
     ]
    },
    {
     "ename": "KeyError",
     "evalue": "\"['Statute'] not found in axis\"",
     "output_type": "error",
     "traceback": [
      "\u001b[1;31m---------------------------------------------------------------------------\u001b[0m",
      "\u001b[1;31mKeyError\u001b[0m                                  Traceback (most recent call last)",
      "\u001b[1;32m~\\AppData\\Local\\Temp\\ipykernel_19348\\496014026.py\u001b[0m in \u001b[0;36m<module>\u001b[1;34m\u001b[0m\n\u001b[0;32m      5\u001b[0m \u001b[0mmerged_df\u001b[0m \u001b[1;33m=\u001b[0m \u001b[0mbs\u001b[0m\u001b[1;33m.\u001b[0m\u001b[0mmap_bail\u001b[0m\u001b[1;33m(\u001b[0m\u001b[0mmerged_df\u001b[0m\u001b[1;33m)\u001b[0m\u001b[1;33m\u001b[0m\u001b[1;33m\u001b[0m\u001b[0m\n\u001b[0;32m      6\u001b[0m \u001b[0mmerged_df\u001b[0m \u001b[1;33m=\u001b[0m \u001b[0mcf\u001b[0m\u001b[1;33m.\u001b[0m\u001b[0mencode_courts\u001b[0m\u001b[1;33m(\u001b[0m\u001b[0mmerged_df\u001b[0m\u001b[1;33m)\u001b[0m\u001b[1;33m\u001b[0m\u001b[1;33m\u001b[0m\u001b[0m\n\u001b[1;32m----> 7\u001b[1;33m \u001b[0mmerged_df\u001b[0m \u001b[1;33m=\u001b[0m \u001b[0mcf\u001b[0m\u001b[1;33m.\u001b[0m\u001b[0mdrop_cols\u001b[0m\u001b[1;33m(\u001b[0m\u001b[0mmerged_df\u001b[0m\u001b[1;33m)\u001b[0m\u001b[1;33m\u001b[0m\u001b[1;33m\u001b[0m\u001b[0m\n\u001b[0m",
      "\u001b[1;32mc:\\Users\\emily\\OneDrive\\Desktop\\Data Science Bootcamp\\Final Project\\src\\cleaning_functions.py\u001b[0m in \u001b[0;36mdrop_cols\u001b[1;34m(df)\u001b[0m\n\u001b[0;32m     11\u001b[0m \u001b[1;31m# drop columns\u001b[0m\u001b[1;33m\u001b[0m\u001b[1;33m\u001b[0m\u001b[0m\n\u001b[0;32m     12\u001b[0m \u001b[1;32mdef\u001b[0m \u001b[0mdrop_cols\u001b[0m\u001b[1;33m(\u001b[0m\u001b[0mdf\u001b[0m\u001b[1;33m)\u001b[0m\u001b[1;33m:\u001b[0m\u001b[1;33m\u001b[0m\u001b[1;33m\u001b[0m\u001b[0m\n\u001b[1;32m---> 13\u001b[1;33m     \u001b[0mdf\u001b[0m\u001b[1;33m.\u001b[0m\u001b[0mdrop\u001b[0m\u001b[1;33m(\u001b[0m\u001b[0mcolumns\u001b[0m \u001b[1;33m=\u001b[0m \u001b[1;33m[\u001b[0m\u001b[1;34m\"Videoconf\"\u001b[0m\u001b[1;33m,\u001b[0m \u001b[1;34m\"Info\"\u001b[0m\u001b[1;33m,\u001b[0m \u001b[1;34m\"File\"\u001b[0m\u001b[1;33m,\u001b[0m \u001b[1;34m\"Name\"\u001b[0m\u001b[1;33m,\u001b[0m \u001b[1;34m\"Lawyer\"\u001b[0m\u001b[1;33m,\u001b[0m \u001b[1;34m'Statute'\u001b[0m\u001b[1;33m]\u001b[0m\u001b[1;33m,\u001b[0m \u001b[0minplace\u001b[0m\u001b[1;33m=\u001b[0m\u001b[1;32mTrue\u001b[0m\u001b[1;33m)\u001b[0m\u001b[1;33m\u001b[0m\u001b[1;33m\u001b[0m\u001b[0m\n\u001b[0m\u001b[0;32m     14\u001b[0m     \u001b[0mprint\u001b[0m \u001b[1;33m(\u001b[0m\u001b[1;34m\"columns: 'Videoconf', 'Info', 'File', 'Name', 'Lawyer', and 'Statute' have been dropped\"\u001b[0m\u001b[1;33m)\u001b[0m\u001b[1;33m\u001b[0m\u001b[1;33m\u001b[0m\u001b[0m\n\u001b[0;32m     15\u001b[0m     \u001b[1;32mreturn\u001b[0m \u001b[0mdf\u001b[0m\u001b[1;33m\u001b[0m\u001b[1;33m\u001b[0m\u001b[0m\n",
      "\u001b[1;32mc:\\Users\\emily\\anaconda3\\lib\\site-packages\\pandas\\util\\_decorators.py\u001b[0m in \u001b[0;36mwrapper\u001b[1;34m(*args, **kwargs)\u001b[0m\n\u001b[0;32m    309\u001b[0m                     \u001b[0mstacklevel\u001b[0m\u001b[1;33m=\u001b[0m\u001b[0mstacklevel\u001b[0m\u001b[1;33m,\u001b[0m\u001b[1;33m\u001b[0m\u001b[1;33m\u001b[0m\u001b[0m\n\u001b[0;32m    310\u001b[0m                 )\n\u001b[1;32m--> 311\u001b[1;33m             \u001b[1;32mreturn\u001b[0m \u001b[0mfunc\u001b[0m\u001b[1;33m(\u001b[0m\u001b[1;33m*\u001b[0m\u001b[0margs\u001b[0m\u001b[1;33m,\u001b[0m \u001b[1;33m**\u001b[0m\u001b[0mkwargs\u001b[0m\u001b[1;33m)\u001b[0m\u001b[1;33m\u001b[0m\u001b[1;33m\u001b[0m\u001b[0m\n\u001b[0m\u001b[0;32m    312\u001b[0m \u001b[1;33m\u001b[0m\u001b[0m\n\u001b[0;32m    313\u001b[0m         \u001b[1;32mreturn\u001b[0m \u001b[0mwrapper\u001b[0m\u001b[1;33m\u001b[0m\u001b[1;33m\u001b[0m\u001b[0m\n",
      "\u001b[1;32mc:\\Users\\emily\\anaconda3\\lib\\site-packages\\pandas\\core\\frame.py\u001b[0m in \u001b[0;36mdrop\u001b[1;34m(self, labels, axis, index, columns, level, inplace, errors)\u001b[0m\n\u001b[0;32m   4955\u001b[0m                 \u001b[0mweight\u001b[0m  \u001b[1;36m1.0\u001b[0m     \u001b[1;36m0.8\u001b[0m\u001b[1;33m\u001b[0m\u001b[1;33m\u001b[0m\u001b[0m\n\u001b[0;32m   4956\u001b[0m         \"\"\"\n\u001b[1;32m-> 4957\u001b[1;33m         return super().drop(\n\u001b[0m\u001b[0;32m   4958\u001b[0m             \u001b[0mlabels\u001b[0m\u001b[1;33m=\u001b[0m\u001b[0mlabels\u001b[0m\u001b[1;33m,\u001b[0m\u001b[1;33m\u001b[0m\u001b[1;33m\u001b[0m\u001b[0m\n\u001b[0;32m   4959\u001b[0m             \u001b[0maxis\u001b[0m\u001b[1;33m=\u001b[0m\u001b[0maxis\u001b[0m\u001b[1;33m,\u001b[0m\u001b[1;33m\u001b[0m\u001b[1;33m\u001b[0m\u001b[0m\n",
      "\u001b[1;32mc:\\Users\\emily\\anaconda3\\lib\\site-packages\\pandas\\core\\generic.py\u001b[0m in \u001b[0;36mdrop\u001b[1;34m(self, labels, axis, index, columns, level, inplace, errors)\u001b[0m\n\u001b[0;32m   4265\u001b[0m         \u001b[1;32mfor\u001b[0m \u001b[0maxis\u001b[0m\u001b[1;33m,\u001b[0m \u001b[0mlabels\u001b[0m \u001b[1;32min\u001b[0m \u001b[0maxes\u001b[0m\u001b[1;33m.\u001b[0m\u001b[0mitems\u001b[0m\u001b[1;33m(\u001b[0m\u001b[1;33m)\u001b[0m\u001b[1;33m:\u001b[0m\u001b[1;33m\u001b[0m\u001b[1;33m\u001b[0m\u001b[0m\n\u001b[0;32m   4266\u001b[0m             \u001b[1;32mif\u001b[0m \u001b[0mlabels\u001b[0m \u001b[1;32mis\u001b[0m \u001b[1;32mnot\u001b[0m \u001b[1;32mNone\u001b[0m\u001b[1;33m:\u001b[0m\u001b[1;33m\u001b[0m\u001b[1;33m\u001b[0m\u001b[0m\n\u001b[1;32m-> 4267\u001b[1;33m                 \u001b[0mobj\u001b[0m \u001b[1;33m=\u001b[0m \u001b[0mobj\u001b[0m\u001b[1;33m.\u001b[0m\u001b[0m_drop_axis\u001b[0m\u001b[1;33m(\u001b[0m\u001b[0mlabels\u001b[0m\u001b[1;33m,\u001b[0m \u001b[0maxis\u001b[0m\u001b[1;33m,\u001b[0m \u001b[0mlevel\u001b[0m\u001b[1;33m=\u001b[0m\u001b[0mlevel\u001b[0m\u001b[1;33m,\u001b[0m \u001b[0merrors\u001b[0m\u001b[1;33m=\u001b[0m\u001b[0merrors\u001b[0m\u001b[1;33m)\u001b[0m\u001b[1;33m\u001b[0m\u001b[1;33m\u001b[0m\u001b[0m\n\u001b[0m\u001b[0;32m   4268\u001b[0m \u001b[1;33m\u001b[0m\u001b[0m\n\u001b[0;32m   4269\u001b[0m         \u001b[1;32mif\u001b[0m \u001b[0minplace\u001b[0m\u001b[1;33m:\u001b[0m\u001b[1;33m\u001b[0m\u001b[1;33m\u001b[0m\u001b[0m\n",
      "\u001b[1;32mc:\\Users\\emily\\anaconda3\\lib\\site-packages\\pandas\\core\\generic.py\u001b[0m in \u001b[0;36m_drop_axis\u001b[1;34m(self, labels, axis, level, errors, consolidate, only_slice)\u001b[0m\n\u001b[0;32m   4309\u001b[0m                 \u001b[0mnew_axis\u001b[0m \u001b[1;33m=\u001b[0m \u001b[0maxis\u001b[0m\u001b[1;33m.\u001b[0m\u001b[0mdrop\u001b[0m\u001b[1;33m(\u001b[0m\u001b[0mlabels\u001b[0m\u001b[1;33m,\u001b[0m \u001b[0mlevel\u001b[0m\u001b[1;33m=\u001b[0m\u001b[0mlevel\u001b[0m\u001b[1;33m,\u001b[0m \u001b[0merrors\u001b[0m\u001b[1;33m=\u001b[0m\u001b[0merrors\u001b[0m\u001b[1;33m)\u001b[0m\u001b[1;33m\u001b[0m\u001b[1;33m\u001b[0m\u001b[0m\n\u001b[0;32m   4310\u001b[0m             \u001b[1;32melse\u001b[0m\u001b[1;33m:\u001b[0m\u001b[1;33m\u001b[0m\u001b[1;33m\u001b[0m\u001b[0m\n\u001b[1;32m-> 4311\u001b[1;33m                 \u001b[0mnew_axis\u001b[0m \u001b[1;33m=\u001b[0m \u001b[0maxis\u001b[0m\u001b[1;33m.\u001b[0m\u001b[0mdrop\u001b[0m\u001b[1;33m(\u001b[0m\u001b[0mlabels\u001b[0m\u001b[1;33m,\u001b[0m \u001b[0merrors\u001b[0m\u001b[1;33m=\u001b[0m\u001b[0merrors\u001b[0m\u001b[1;33m)\u001b[0m\u001b[1;33m\u001b[0m\u001b[1;33m\u001b[0m\u001b[0m\n\u001b[0m\u001b[0;32m   4312\u001b[0m             \u001b[0mindexer\u001b[0m \u001b[1;33m=\u001b[0m \u001b[0maxis\u001b[0m\u001b[1;33m.\u001b[0m\u001b[0mget_indexer\u001b[0m\u001b[1;33m(\u001b[0m\u001b[0mnew_axis\u001b[0m\u001b[1;33m)\u001b[0m\u001b[1;33m\u001b[0m\u001b[1;33m\u001b[0m\u001b[0m\n\u001b[0;32m   4313\u001b[0m \u001b[1;33m\u001b[0m\u001b[0m\n",
      "\u001b[1;32mc:\\Users\\emily\\anaconda3\\lib\\site-packages\\pandas\\core\\indexes\\base.py\u001b[0m in \u001b[0;36mdrop\u001b[1;34m(self, labels, errors)\u001b[0m\n\u001b[0;32m   6659\u001b[0m         \u001b[1;32mif\u001b[0m \u001b[0mmask\u001b[0m\u001b[1;33m.\u001b[0m\u001b[0many\u001b[0m\u001b[1;33m(\u001b[0m\u001b[1;33m)\u001b[0m\u001b[1;33m:\u001b[0m\u001b[1;33m\u001b[0m\u001b[1;33m\u001b[0m\u001b[0m\n\u001b[0;32m   6660\u001b[0m             \u001b[1;32mif\u001b[0m \u001b[0merrors\u001b[0m \u001b[1;33m!=\u001b[0m \u001b[1;34m\"ignore\"\u001b[0m\u001b[1;33m:\u001b[0m\u001b[1;33m\u001b[0m\u001b[1;33m\u001b[0m\u001b[0m\n\u001b[1;32m-> 6661\u001b[1;33m                 \u001b[1;32mraise\u001b[0m \u001b[0mKeyError\u001b[0m\u001b[1;33m(\u001b[0m\u001b[1;34mf\"{list(labels[mask])} not found in axis\"\u001b[0m\u001b[1;33m)\u001b[0m\u001b[1;33m\u001b[0m\u001b[1;33m\u001b[0m\u001b[0m\n\u001b[0m\u001b[0;32m   6662\u001b[0m             \u001b[0mindexer\u001b[0m \u001b[1;33m=\u001b[0m \u001b[0mindexer\u001b[0m\u001b[1;33m[\u001b[0m\u001b[1;33m~\u001b[0m\u001b[0mmask\u001b[0m\u001b[1;33m]\u001b[0m\u001b[1;33m\u001b[0m\u001b[1;33m\u001b[0m\u001b[0m\n\u001b[0;32m   6663\u001b[0m         \u001b[1;32mreturn\u001b[0m \u001b[0mself\u001b[0m\u001b[1;33m.\u001b[0m\u001b[0mdelete\u001b[0m\u001b[1;33m(\u001b[0m\u001b[0mindexer\u001b[0m\u001b[1;33m)\u001b[0m\u001b[1;33m\u001b[0m\u001b[1;33m\u001b[0m\u001b[0m\n",
      "\u001b[1;31mKeyError\u001b[0m: \"['Statute'] not found in axis\""
     ]
    }
   ],
   "source": [
    "# encode everything for modeling\n",
    "\n",
    "merged_df = cf.clean_lawyers(merged_df)\n",
    "merged_df = cf.encode_incustody(merged_df)\n",
    "merged_df = bs.map_bail(merged_df)\n",
    "merged_df = cf.encode_courts(merged_df)\n",
    "merged_df = cf.drop_cols(merged_df)"
   ]
  },
  {
   "cell_type": "code",
   "execution_count": null,
   "metadata": {},
   "outputs": [],
   "source": [
    "merged_df.to_csv(\"../data/clean_merged_df.csv\")"
   ]
  },
  {
   "cell_type": "code",
   "execution_count": null,
   "metadata": {},
   "outputs": [],
   "source": []
  }
 ],
 "metadata": {
  "kernelspec": {
   "display_name": "base",
   "language": "python",
   "name": "python3"
  },
  "language_info": {
   "codemirror_mode": {
    "name": "ipython",
    "version": 3
   },
   "file_extension": ".py",
   "mimetype": "text/x-python",
   "name": "python",
   "nbconvert_exporter": "python",
   "pygments_lexer": "ipython3",
   "version": "3.9.13"
  },
  "orig_nbformat": 4
 },
 "nbformat": 4,
 "nbformat_minor": 2
}
