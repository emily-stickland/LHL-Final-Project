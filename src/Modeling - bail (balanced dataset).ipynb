{
 "cells": [
  {
   "cell_type": "code",
   "execution_count": 77,
   "metadata": {},
   "outputs": [],
   "source": [
    "import pandas as pd \n",
    "import numpy as np\n",
    "import cleaning_functions as cf\n",
    "import legal_functions as lf\n",
    "import bail_status_dict as bs\n",
    "\n",
    "from sklearn.model_selection import train_test_split\n",
    "from sklearn.preprocessing import StandardScaler\n",
    "\n",
    "# feature selection\n",
    "from sklearn.decomposition import PCA\n",
    "from sklearn.feature_selection import SelectKBest\n",
    "from sklearn.feature_selection import f_classif\n",
    "\n",
    "# Cross Validation\n",
    "from sklearn.model_selection import cross_val_predict\n",
    "from sklearn.model_selection import cross_val_score\n",
    "\n",
    "# ML models\n",
    "import xgboost as xgb\n",
    "from xgboost import XGBClassifier\n",
    "from sklearn.naive_bayes import GaussianNB\n",
    "from sklearn.neighbors import KNeighborsClassifier\n",
    "from sklearn.linear_model import LogisticRegression\n",
    "from sklearn.ensemble import RandomForestClassifier\n",
    "\n",
    "# pipelines and tuning\n",
    "from sklearn.ensemble import VotingClassifier\n",
    "from sklearn.pipeline import Pipeline\n",
    "from sklearn.model_selection import GridSearchCV\n",
    "\n",
    "# performance metrics\n",
    "from sklearn.metrics import accuracy_score, precision_score, recall_score\n",
    "from sklearn.metrics import confusion_matrix\n",
    "\n",
    "\n",
    "# plotting\n",
    "import seaborn as sns\n",
    "import matplotlib.pyplot as plt"
   ]
  },
  {
   "cell_type": "code",
   "execution_count": 78,
   "metadata": {},
   "outputs": [
    {
     "data": {
      "text/plain": [
       "(3060, 26)"
      ]
     },
     "execution_count": 78,
     "metadata": {},
     "output_type": "execute_result"
    }
   ],
   "source": [
    "df_binary = pd.read_csv(\"../data/clean_merged_df.csv\")\n",
    "df_binary = df_binary.drop(columns = ['Unnamed: 0', 'Offence Location', 'Date', 'Proceeding Type', 'Offence Number', 'Offence'])\n",
    "df_binary.shape"
   ]
  },
  {
   "cell_type": "code",
   "execution_count": 79,
   "metadata": {},
   "outputs": [
    {
     "data": {
      "text/plain": [
       "(3060, 131)"
      ]
     },
     "execution_count": 79,
     "metadata": {},
     "output_type": "execute_result"
    }
   ],
   "source": [
    "df_large = pd.read_csv(\"../data/very_large_df.csv\")\n",
    "df_large = df_large.drop(columns = ['Unnamed: 0', 'Offence Location', 'Date', 'Proceeding Type', 'Offence Number', 'Offence'])\n",
    "df_large.shape"
   ]
  },
  {
   "cell_type": "code",
   "execution_count": 80,
   "metadata": {},
   "outputs": [
    {
     "name": "stdout",
     "output_type": "stream",
     "text": [
      "127 rows have been dropped\n",
      "127 rows have been dropped\n"
     ]
    }
   ],
   "source": [
    "# clean_incustody rather than encode_incustody (get rid of rows where custody is unknown, rather than encode it)\n",
    "# dropping rows witgh unknown custodial status\n",
    "df_binary = cf.clean_incustody(df_binary)\n",
    "df_large = cf.clean_incustody(df_large)"
   ]
  },
  {
   "cell_type": "code",
   "execution_count": 81,
   "metadata": {},
   "outputs": [
    {
     "data": {
      "text/plain": [
       "0    2202\n",
       "1     731\n",
       "Name: In Custody, dtype: int64"
      ]
     },
     "execution_count": 81,
     "metadata": {},
     "output_type": "execute_result"
    }
   ],
   "source": [
    "df_binary['In Custody'].value_counts()"
   ]
  },
  {
   "attachments": {},
   "cell_type": "markdown",
   "metadata": {},
   "source": [
    "Ensure even sample between bail and no bail"
   ]
  },
  {
   "cell_type": "code",
   "execution_count": 82,
   "metadata": {},
   "outputs": [
    {
     "data": {
      "text/plain": [
       "(1462, 26)"
      ]
     },
     "execution_count": 82,
     "metadata": {},
     "output_type": "execute_result"
    }
   ],
   "source": [
    "# Select rows where y = 1\n",
    "df_y1 = df_binary[df_binary['In Custody'] == 1]\n",
    "\n",
    "# Select 731 rows where y = 0\n",
    "n = len (df_binary[df_binary['In Custody'] == 1])\n",
    "df_y0_sample = df_binary [df_binary ['In Custody'] == 0] .sample (n = n, random_state = 42)\n",
    "\n",
    "# Concatenate the two dataframes\n",
    "binary_df_equal = pd.concat([df_y1, df_y0_sample])\n",
    "\n",
    "binary_df_equal.shape"
   ]
  },
  {
   "attachments": {},
   "cell_type": "markdown",
   "metadata": {},
   "source": [
    "Train-test split"
   ]
  },
  {
   "cell_type": "code",
   "execution_count": 83,
   "metadata": {},
   "outputs": [],
   "source": [
    "# Split the data into features (X) and target (y), and drop release type\n",
    "X = binary_df_equal.drop(columns = ['In Custody', 'Release Type'], axis=1)\n",
    "y = binary_df_equal['In Custody']"
   ]
  },
  {
   "attachments": {},
   "cell_type": "markdown",
   "metadata": {},
   "source": [
    "### XG Boost"
   ]
  },
  {
   "cell_type": "code",
   "execution_count": 84,
   "metadata": {},
   "outputs": [],
   "source": [
    "# Split the data into training and testing sets\n",
    "X_train, X_test, y_train, y_test = train_test_split(X, y, test_size = 0.2, random_state = 42)"
   ]
  },
  {
   "cell_type": "code",
   "execution_count": 85,
   "metadata": {},
   "outputs": [
    {
     "name": "stdout",
     "output_type": "stream",
     "text": [
      "Accuracy: 0.666\n",
      "Precision: 0.683\n",
      "Recall: 0.638\n"
     ]
    }
   ],
   "source": [
    "# Fit the XGBoost model\n",
    "xgb_model = XGBClassifier(n_estimators = 100, random_state = 42)\n",
    "xgb_model.fit(X_train, y_train)\n",
    "\n",
    "# Predict on the test data\n",
    "y_pred = xgb_model.predict(X_test)\n",
    "\n",
    "# Calculate accuracy, precision, recall\n",
    "accuracy = accuracy_score(y_test, y_pred)\n",
    "precision = precision_score(y_test, y_pred)\n",
    "recall = recall_score(y_test, y_pred)\n",
    "\n",
    "# print results\n",
    "print(\"Accuracy: {:.3f}\".format(accuracy))\n",
    "print(\"Precision: {:.3f}\".format(precision))\n",
    "print(\"Recall: {:.3f}\".format(recall))"
   ]
  },
  {
   "attachments": {},
   "cell_type": "markdown",
   "metadata": {},
   "source": [
    "GridSearch to hypertune parameters"
   ]
  },
  {
   "cell_type": "code",
   "execution_count": 86,
   "metadata": {},
   "outputs": [
    {
     "name": "stdout",
     "output_type": "stream",
     "text": [
      "Best hyperparameters: {'colsample_bytree': 0.5, 'learning_rate': 0.03, 'max_depth': 7, 'n_estimators': 20, 'subsample': 0.9}\n",
      "Cross-validation score: 0.6697139129624453\n"
     ]
    }
   ],
   "source": [
    "# instantiate XGB \n",
    "xgb = XGBClassifier()\n",
    "\n",
    "# define the hyperparameter grid to search over\n",
    "param_grid = {  'n_estimators' : [15, 20, 30],\n",
    "                'learning_rate': [0.001, 0.01, 0.03],\n",
    "                'max_depth': [6, 7, 8],\n",
    "                'subsample': [0.5, 0.7, 0.9],\n",
    "                'colsample_bytree': [0.3, 0.5, 0.7]\n",
    "              }\n",
    "\n",
    "grid_search = GridSearchCV(xgb, param_grid, cv=10)\n",
    "grid_search.fit(X, y)\n",
    "\n",
    "print('Best hyperparameters:', grid_search.best_params_)\n",
    "print('Cross-validation score:', grid_search.best_score_)"
   ]
  },
  {
   "attachments": {},
   "cell_type": "markdown",
   "metadata": {},
   "source": [
    "Run model with best params"
   ]
  },
  {
   "cell_type": "code",
   "execution_count": 87,
   "metadata": {},
   "outputs": [
    {
     "name": "stdout",
     "output_type": "stream",
     "text": [
      "Accuracy: 0.672\n",
      "Precision: 0.685\n",
      "Recall: 0.658\n"
     ]
    }
   ],
   "source": [
    "# initialize a XGB model with optimal params\n",
    "xgb_model_final = XGBClassifier(\n",
    "                    n_estimators = 300, \n",
    "                    colsample_bytree = 0.5, \n",
    "                    learning_rate = 0.01, \n",
    "                    max_depth = 7, \n",
    "                    subsample = 0.3,\n",
    "                    random_state = 42)\n",
    "\n",
    "xgb_model_final.fit(X_train, y_train)\n",
    "\n",
    "# Predict on the test data\n",
    "y_pred = xgb_model_final.predict(X_test)\n",
    "\n",
    "# Calculate accuracy, precision, recall\n",
    "accuracy = accuracy_score(y_test, y_pred)\n",
    "precision = precision_score(y_test, y_pred)\n",
    "recall = recall_score(y_test, y_pred)\n",
    "\n",
    "# print results\n",
    "print(\"Accuracy: {:.3f}\".format(accuracy))\n",
    "print(\"Precision: {:.3f}\".format(precision))\n",
    "print(\"Recall: {:.3f}\".format(recall))"
   ]
  },
  {
   "cell_type": "code",
   "execution_count": 88,
   "metadata": {},
   "outputs": [
    {
     "data": {
      "image/png": "[encoded data removed]",
      "text/plain": [
       "<Figure size 640x480 with 2 Axes>"
      ]
     },
     "metadata": {},
     "output_type": "display_data"
    }
   ],
   "source": [
    "# Calculate the confusion matrix\n",
    "confused = confusion_matrix(y_test, y_pred)\n",
    "\n",
    "# Plot the confusion matrix using seaborn\n",
    "sns.heatmap(confused, annot = True, fmt = 'd', cmap = 'viridis')\n",
    "plt.xlabel('Predicted')\n",
    "plt.ylabel('True')\n",
    "plt.show()"
   ]
  },
  {
   "attachments": {},
   "cell_type": "markdown",
   "metadata": {},
   "source": [
    "### Naive Bayes"
   ]
  },
  {
   "attachments": {},
   "cell_type": "markdown",
   "metadata": {},
   "source": [
    "Before hyperparameter tuning"
   ]
  },
  {
   "cell_type": "code",
   "execution_count": 89,
   "metadata": {},
   "outputs": [],
   "source": [
    "# Split the data into features (X) and target (y)\n",
    "X = binary_df_equal.drop(columns = ['In Custody', 'Release Type'], axis=1)\n",
    "y = binary_df_equal['In Custody']"
   ]
  },
  {
   "cell_type": "code",
   "execution_count": 90,
   "metadata": {},
   "outputs": [
    {
     "name": "stdout",
     "output_type": "stream",
     "text": [
      "Accuracy: 0.666\n",
      "Precision: 0.683\n",
      "Recall: 0.638\n"
     ]
    }
   ],
   "source": [
    "# Create a Gaussian Naive Bayes estimator with no hyperparameters\n",
    "gnb_model = GaussianNB()\n",
    "\n",
    "# fit the model to the training data\n",
    "xgb_model.fit(X_train, y_train)\n",
    "\n",
    "# Predict on the test data\n",
    "y_pred = xgb_model.predict(X_test)\n",
    "\n",
    "# Calculate accuracy, precision, recall\n",
    "accuracy = accuracy_score(y_test, y_pred)\n",
    "precision = precision_score(y_test, y_pred)\n",
    "recall = recall_score(y_test, y_pred)\n",
    "\n",
    "# print results\n",
    "print(\"Accuracy: {:.3f}\".format(accuracy))\n",
    "print(\"Precision: {:.3f}\".format(precision))\n",
    "print(\"Recall: {:.3f}\".format(recall))"
   ]
  },
  {
   "attachments": {},
   "cell_type": "markdown",
   "metadata": {},
   "source": [
    "On binary-encoded df with gridsearch to hypertune parameters"
   ]
  },
  {
   "cell_type": "code",
   "execution_count": 91,
   "metadata": {},
   "outputs": [
    {
     "name": "stdout",
     "output_type": "stream",
     "text": [
      "Best hyperparameters: {'var_smoothing': 0.0001}\n",
      "Cross-validation score: 0.5204895039506289\n"
     ]
    }
   ],
   "source": [
    "# Create a Gaussian Naive Bayes estimator\n",
    "gnb = GaussianNB()\n",
    "\n",
    "# Define the hyperparameter grid to search over\n",
    "param_grid = {\n",
    "    'var_smoothing': [0.0001, 0.001, 0.01, 0.1]\n",
    "}\n",
    "\n",
    "# Create a GridSearchCV object with 5-fold cross validation\n",
    "grid_search = GridSearchCV(gnb, param_grid, cv=5)\n",
    "\n",
    "# Fit the grid search to the data\n",
    "grid_search.fit(X, y)\n",
    "\n",
    "# Print the best hyperparameters and cross-validation score\n",
    "print('Best hyperparameters:', grid_search.best_params_)\n",
    "print('Cross-validation score:', grid_search.best_score_)"
   ]
  },
  {
   "attachments": {},
   "cell_type": "markdown",
   "metadata": {},
   "source": [
    "Run the model with the best hyperparameters\n",
    "* select a different random state in case this helps"
   ]
  },
  {
   "cell_type": "code",
   "execution_count": 92,
   "metadata": {},
   "outputs": [],
   "source": [
    "# Split the data into features (X) and target (y), and drop release type\n",
    "X = binary_df_equal.drop(columns = ['In Custody', 'Release Type'], axis=1)\n",
    "y = binary_df_equal['In Custody']\n",
    "\n",
    "# Split the data into training and testing sets\n",
    "X_train, X_test, y_train, y_test = train_test_split(X, y, test_size=0.2, random_state = 52)"
   ]
  },
  {
   "cell_type": "code",
   "execution_count": 93,
   "metadata": {},
   "outputs": [
    {
     "name": "stdout",
     "output_type": "stream",
     "text": [
      "Accuracy: 0.485\n",
      "Precision: 0.500\n",
      "Recall: 0.119\n"
     ]
    }
   ],
   "source": [
    "# Instantiate Gaussian Naive Bayes estimator with the best hyperparameters\n",
    "gnb_model_final = GaussianNB (var_smoothing = 0.01)\n",
    "\n",
    "# fit the model to the training data\n",
    "gnb_model_final.fit(X_train, y_train)\n",
    "\n",
    "# Predict on the test data\n",
    "y_pred = gnb_model_final.predict(X_test)\n",
    "\n",
    "# Calculate accuracy, precision, recall\n",
    "accuracy = accuracy_score(y_test, y_pred)\n",
    "precision = precision_score(y_test, y_pred)\n",
    "recall = recall_score(y_test, y_pred)\n",
    "\n",
    "# print results\n",
    "print(\"Accuracy: {:.3f}\".format(accuracy))\n",
    "print(\"Precision: {:.3f}\".format(precision))\n",
    "print(\"Recall: {:.3f}\".format(recall))\n"
   ]
  },
  {
   "cell_type": "code",
   "execution_count": 94,
   "metadata": {},
   "outputs": [
    {
     "data": {
      "image/png": "[encoded data removed]",
      "text/plain": [
       "<Figure size 640x480 with 2 Axes>"
      ]
     },
     "metadata": {},
     "output_type": "display_data"
    }
   ],
   "source": [
    "# Calculate the confusion matrix\n",
    "confused = confusion_matrix(y_test, y_pred)\n",
    "\n",
    "# Plot the confusion matrix using seaborn\n",
    "sns.heatmap(confused, annot = True, fmt = 'd', cmap = 'viridis')\n",
    "plt.xlabel('Predicted')\n",
    "plt.ylabel('True')\n",
    "plt.show()"
   ]
  },
  {
   "attachments": {},
   "cell_type": "markdown",
   "metadata": {},
   "source": [
    "### Logistic Regression\n",
    "* try with large (one-hot encoded) dataset instead of binary encoded dataset"
   ]
  },
  {
   "attachments": {},
   "cell_type": "markdown",
   "metadata": {},
   "source": [
    "Split data evenly between bail and no bail"
   ]
  },
  {
   "cell_type": "code",
   "execution_count": 95,
   "metadata": {},
   "outputs": [
    {
     "data": {
      "text/plain": [
       "(1462, 131)"
      ]
     },
     "execution_count": 95,
     "metadata": {},
     "output_type": "execute_result"
    }
   ],
   "source": [
    "# Select rows where y = 1\n",
    "df_y1 = df_large[df_large['In Custody'] == 1]\n",
    "\n",
    "# Select 731 rows where y = 0\n",
    "n = len (df_large[df_large['In Custody'] == 1])\n",
    "df_y0_sample = df_large [df_large ['In Custody'] == 0] .sample (n = n, random_state = 42)\n",
    "\n",
    "# Concatenate the two dataframes\n",
    "large_df_equal = pd.concat([df_y1, df_y0_sample])\n",
    "\n",
    "large_df_equal.shape"
   ]
  },
  {
   "cell_type": "code",
   "execution_count": 96,
   "metadata": {},
   "outputs": [],
   "source": [
    "# Split the data into features (X) and target (y), and drop release type\n",
    "X = large_df_equal.drop(columns = ['In Custody', 'Release Type'], axis=1)\n",
    "y = large_df_equal['In Custody']\n",
    "\n",
    "# Split the data into training and testing sets\n",
    "X_train, X_test, y_train, y_test = train_test_split(X, y, test_size = 0.2, random_state = 52)"
   ]
  },
  {
   "attachments": {},
   "cell_type": "markdown",
   "metadata": {},
   "source": [
    "Calculate pre-tuning results"
   ]
  },
  {
   "cell_type": "code",
   "execution_count": 97,
   "metadata": {},
   "outputs": [
    {
     "name": "stdout",
     "output_type": "stream",
     "text": [
      "Accuracy: 0.648\n",
      "Precision: 0.667\n",
      "Recall: 0.636\n"
     ]
    }
   ],
   "source": [
    "# Instantiate a logistic regression model with no hyperparameters\n",
    "lr_model_final = LogisticRegression(max_iter = 1000)\n",
    "\n",
    "# Fit the model on the training set\n",
    "lr_model_final.fit(X_train, y_train)\n",
    "\n",
    "# Predict on the test set\n",
    "y_pred = lr_model_final.predict(X_test)\n",
    "\n",
    "# Calculate accuracy, precision, and recall\n",
    "accuracy = accuracy_score(y_test, y_pred)\n",
    "precision = precision_score(y_test, y_pred)\n",
    "recall = recall_score(y_test, y_pred)\n",
    "\n",
    "# Print results\n",
    "print(\"Accuracy: {:.3f}\".format(accuracy))\n",
    "print(\"Precision: {:.3f}\".format(precision))\n",
    "print(\"Recall: {:.3f}\".format(recall))"
   ]
  },
  {
   "cell_type": "code",
   "execution_count": 98,
   "metadata": {},
   "outputs": [
    {
     "data": {
      "text/plain": [
       "\"# Define the hyperparameter grid to search over\\nparam_grid = {'penalty': ['l1', 'l2'],\\n              'C': [0.1, 1, 10, 20],\\n              'solver': ['liblinear', 'saga'],\\n              'max_iter' : [10000, 100000, 500000]\\n             }\\n\\n# Instantiate a logistic regression model\\nlr = LogisticRegression()\\n\\n# Create a GridSearchCV object with 5-fold cross validation\\ngrid_search = GridSearchCV (lr, param_grid, cv = 5)\\n\\n# Fit the grid search to the data\\ngrid_search.fit(X, y)\\n\\n# Print the best hyperparameters and cross-validation score\\nprint('Best hyperparameters:', grid_search.best_params_)\\nprint('Cross-validation score:', grid_search.best_score_)\\n\""
      ]
     },
     "execution_count": 98,
     "metadata": {},
     "output_type": "execute_result"
    }
   ],
   "source": [
    "'''# Define the hyperparameter grid to search over\n",
    "param_grid = {'penalty': ['l1', 'l2'],\n",
    "              'C': [0.1, 1, 10, 20],\n",
    "              'solver': ['liblinear', 'saga'],\n",
    "              'max_iter' : [10000, 100000, 500000]\n",
    "             }\n",
    "\n",
    "# Instantiate a logistic regression model\n",
    "lr = LogisticRegression()\n",
    "\n",
    "# Create a GridSearchCV object with 5-fold cross validation\n",
    "grid_search = GridSearchCV (lr, param_grid, cv = 5)\n",
    "\n",
    "# Fit the grid search to the data\n",
    "grid_search.fit(X, y)\n",
    "\n",
    "# Print the best hyperparameters and cross-validation score\n",
    "print('Best hyperparameters:', grid_search.best_params_)\n",
    "print('Cross-validation score:', grid_search.best_score_)\n",
    "'''"
   ]
  },
  {
   "attachments": {},
   "cell_type": "markdown",
   "metadata": {},
   "source": [
    "Run Logistic Regression model with the best hyperparameters and use to make predictions"
   ]
  },
  {
   "cell_type": "code",
   "execution_count": 99,
   "metadata": {},
   "outputs": [
    {
     "name": "stdout",
     "output_type": "stream",
     "text": [
      "Accuracy: 0.648\n",
      "Precision: 0.674\n",
      "Recall: 0.616\n"
     ]
    }
   ],
   "source": [
    "# Instantiate a logistic regression model with the best hyperparameters\n",
    "lr_model_final = LogisticRegression(C = 20,\n",
    "                                    penalty = 'l1',\n",
    "                                    solver = 'liblinear',\n",
    "                                    max_iter = 10000 )\n",
    "\n",
    "# Fit the model on the training set\n",
    "lr_model_final.fit(X_train, y_train)\n",
    "\n",
    "# Predict on the test set\n",
    "y_pred = lr_model_final.predict(X_test)\n",
    "\n",
    "# Calculate accuracy, precision, and recall\n",
    "accuracy = accuracy_score(y_test, y_pred)\n",
    "precision = precision_score(y_test, y_pred)\n",
    "recall = recall_score(y_test, y_pred)\n",
    "\n",
    "# Print results\n",
    "print(\"Accuracy: {:.3f}\".format(accuracy))\n",
    "print(\"Precision: {:.3f}\".format(precision))\n",
    "print(\"Recall: {:.3f}\".format(recall))"
   ]
  },
  {
   "cell_type": "code",
   "execution_count": 100,
   "metadata": {},
   "outputs": [
    {
     "data": {
      "image/png": "[encoded data removed]",
      "text/plain": [
       "<Figure size 640x480 with 2 Axes>"
      ]
     },
     "metadata": {},
     "output_type": "display_data"
    }
   ],
   "source": [
    "# Calculate the confusion matrix\n",
    "confused = confusion_matrix(y_test, y_pred)\n",
    "\n",
    "# Plot the confusion matrix using seaborn\n",
    "sns.heatmap(confused, annot = True, fmt = 'd', cmap = 'viridis')\n",
    "plt.xlabel('Predicted')\n",
    "plt.ylabel('True')\n",
    "plt.show()"
   ]
  },
  {
   "attachments": {},
   "cell_type": "markdown",
   "metadata": {},
   "source": [
    "### Random Forest\n",
    "* Again using large_df, made equal between bail and no bail"
   ]
  },
  {
   "cell_type": "code",
   "execution_count": 101,
   "metadata": {},
   "outputs": [],
   "source": [
    "# Split the data into features (X) and target (y), and drop release type\n",
    "X = large_df_equal.drop(columns = ['In Custody', 'Release Type'], axis=1)\n",
    "y = large_df_equal['In Custody']\n",
    "\n",
    "# Split the data into training and testing sets\n",
    "X_train, X_test, y_train, y_test = train_test_split(X, y, test_size=0.2, random_state = 52)"
   ]
  },
  {
   "attachments": {},
   "cell_type": "markdown",
   "metadata": {},
   "source": [
    "Get pre-tuning results"
   ]
  },
  {
   "cell_type": "code",
   "execution_count": 102,
   "metadata": {},
   "outputs": [
    {
     "name": "stdout",
     "output_type": "stream",
     "text": [
      "Accuracy: 0.700\n",
      "Precision: 0.710\n",
      "Recall: 0.691\n"
     ]
    }
   ],
   "source": [
    "# Instantiate Random Forest model with no hyperparameters\n",
    "rf_model = RandomForestClassifier()\n",
    "\n",
    "# Split the data into training and test sets\n",
    "X_train, X_test, y_train, y_test = train_test_split(X, y, test_size=0.2, random_state = 42)\n",
    "\n",
    "# Fit the model on the training set\n",
    "rf_model.fit(X_train, y_train)\n",
    "\n",
    "# Predict on the test set\n",
    "y_pred = rf_model.predict(X_test)\n",
    "\n",
    "# Calculate accuracy, precision, and recall\n",
    "accuracy = accuracy_score(y_test, y_pred)\n",
    "precision = precision_score(y_test, y_pred)\n",
    "recall = recall_score(y_test, y_pred)\n",
    "\n",
    "# Print results\n",
    "print(\"Accuracy: {:.3f}\".format(accuracy))\n",
    "print(\"Precision: {:.3f}\".format(precision))\n",
    "print(\"Recall: {:.3f}\".format(recall))"
   ]
  },
  {
   "attachments": {},
   "cell_type": "markdown",
   "metadata": {},
   "source": [
    "Gridsearch with 5-fold cross validation to get best hyperparametrs"
   ]
  },
  {
   "cell_type": "code",
   "execution_count": 103,
   "metadata": {},
   "outputs": [
    {
     "name": "stdout",
     "output_type": "stream",
     "text": [
      "Best hyperparameters: {'max_depth': 15, 'min_samples_leaf': 1, 'min_samples_split': 5, 'n_estimators': 70}\n",
      "Cross-validation score: 0.6682874374678573\n"
     ]
    }
   ],
   "source": [
    "# Define hyperparameter grid\n",
    "param_grid = {\n",
    "    'n_estimators': [70, 80, 100, 120],\n",
    "    'max_depth': [10, 15, 20],\n",
    "    'min_samples_split': [4, 5, 6],\n",
    "    'min_samples_leaf': [1, 2, 4]\n",
    "}\n",
    "\n",
    "# Create a random forest object\n",
    "rf_model = RandomForestClassifier(random_state = 42)\n",
    "\n",
    "# Create a GridSearchCV object with 5-fold cross validation\n",
    "grid_search = GridSearchCV(rf_model, \n",
    "                           param_grid, \n",
    "                           cv = 5, \n",
    "                           n_jobs = -1)\n",
    "\n",
    "# Fit the grid search to the data\n",
    "grid_search.fit(X, y)\n",
    "\n",
    "# Print the best hyperparameters and cross-validation score\n",
    "print('Best hyperparameters:', grid_search.best_params_)\n",
    "print('Cross-validation score:', grid_search.best_score_)"
   ]
  },
  {
   "attachments": {},
   "cell_type": "markdown",
   "metadata": {},
   "source": [
    "Instantiate Random Forest model with the best hyperparameters and make predictions"
   ]
  },
  {
   "cell_type": "code",
   "execution_count": 104,
   "metadata": {},
   "outputs": [
    {
     "name": "stdout",
     "output_type": "stream",
     "text": [
      "Accuracy: 0.676\n",
      "Precision: 0.680\n",
      "Recall: 0.685\n"
     ]
    }
   ],
   "source": [
    "# Instantiate Random Forest model with the best hyperparameters\n",
    "rf_model_final = RandomForestClassifier(n_estimators = 70,\n",
    "                                    max_depth = 15,\n",
    "                                    min_samples_split = 5,\n",
    "                                    min_samples_leaf = 1\n",
    "                                    )\n",
    "\n",
    "# Split the data into training and test sets\n",
    "X_train, X_test, y_train, y_test = train_test_split(X, y, test_size=0.2, random_state = 42)\n",
    "\n",
    "# Fit the model on the training set\n",
    "rf_model_final.fit(X_train, y_train)\n",
    "\n",
    "# Predict on the test set\n",
    "y_pred = rf_model_final.predict(X_test)\n",
    "\n",
    "# Calculate accuracy, precision, and recall\n",
    "accuracy = accuracy_score(y_test, y_pred)\n",
    "precision = precision_score(y_test, y_pred)\n",
    "recall = recall_score(y_test, y_pred)\n",
    "\n",
    "# Print results\n",
    "print(\"Accuracy: {:.3f}\".format(accuracy))\n",
    "print(\"Precision: {:.3f}\".format(precision))\n",
    "print(\"Recall: {:.3f}\".format(recall))"
   ]
  },
  {
   "cell_type": "code",
   "execution_count": 105,
   "metadata": {},
   "outputs": [
    {
     "data": {
      "image/png": "[encoded data removed]",
      "text/plain": [
       "<Figure size 640x480 with 2 Axes>"
      ]
     },
     "metadata": {},
     "output_type": "display_data"
    }
   ],
   "source": [
    "# Calculate the confusion matrix\n",
    "confused = confusion_matrix(y_test, y_pred)\n",
    "\n",
    "# Plot the confusion matrix using seaborn\n",
    "sns.heatmap(confused, annot = True, fmt = 'd', cmap = 'viridis')\n",
    "plt.xlabel('Predicted')\n",
    "plt.ylabel('True')\n",
    "plt.show()"
   ]
  },
  {
   "attachments": {},
   "cell_type": "markdown",
   "metadata": {},
   "source": [
    "### Ensemble Models - Voting Classifier"
   ]
  },
  {
   "cell_type": "code",
   "execution_count": 106,
   "metadata": {},
   "outputs": [
    {
     "name": "stderr",
     "output_type": "stream",
     "text": [
      "c:\\Users\\emily\\anaconda3\\lib\\site-packages\\sklearn\\linear_model\\_logistic.py:814: ConvergenceWarning: lbfgs failed to converge (status=1):\n",
      "STOP: TOTAL NO. of ITERATIONS REACHED LIMIT.\n",
      "\n",
      "Increase the number of iterations (max_iter) or scale the data as shown in:\n",
      "    https://scikit-learn.org/stable/modules/preprocessing.html\n",
      "Please also refer to the documentation for alternative solver options:\n",
      "    https://scikit-learn.org/stable/modules/linear_model.html#logistic-regression\n",
      "  n_iter_i = _check_optimize_result(\n"
     ]
    },
    {
     "name": "stdout",
     "output_type": "stream",
     "text": [
      "Accuracy: 0.652\n",
      "Precision: 0.720\n",
      "Recall: 0.517\n"
     ]
    }
   ],
   "source": [
    "# define the individual models\n",
    "nb = GaussianNB()\n",
    "rf = RandomForestClassifier(n_estimators=100, random_state=42)\n",
    "lr = LogisticRegression(C=0.1, random_state=42)\n",
    "xgb = XGBClassifier(n_estimators=100, random_state=42)\n",
    "\n",
    "# create a voting classifier with the individual models\n",
    "voting_classifier = VotingClassifier(\n",
    "    estimators=[('nb', nb), ('rf', rf), ('lr', lr), ('xgb', xgb)],\n",
    "    voting='hard'\n",
    ")\n",
    "\n",
    "# fit the voting classifier to the training data\n",
    "voting_classifier.fit(X_train, y_train)\n",
    "\n",
    "# predict on the test data\n",
    "y_pred = voting_classifier.predict(X_test)\n",
    "\n",
    "# calculate the accuracy, precision, and recall\n",
    "accuracy = accuracy_score(y_test, y_pred)\n",
    "precision = precision_score(y_test, y_pred)\n",
    "recall = recall_score(y_test, y_pred)\n",
    "\n",
    "# print the results\n",
    "print(\"Accuracy: {:.3f}\".format(accuracy))\n",
    "print(\"Precision: {:.3f}\".format(precision))\n",
    "print(\"Recall: {:.3f}\".format(recall))"
   ]
  }
 ],
 "metadata": {
  "kernelspec": {
   "display_name": "base",
   "language": "python",
   "name": "python3"
  },
  "language_info": {
   "codemirror_mode": {
    "name": "ipython",
    "version": 3
   },
   "file_extension": ".py",
   "mimetype": "text/x-python",
   "name": "python",
   "nbconvert_exporter": "python",
   "pygments_lexer": "ipython3",
   "version": "3.9.13"
  },
  "orig_nbformat": 4
 },
 "nbformat": 4,
 "nbformat_minor": 2
}
